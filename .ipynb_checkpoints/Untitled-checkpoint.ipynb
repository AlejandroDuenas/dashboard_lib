{
 "cells": [
  {
   "cell_type": "code",
   "execution_count": 3,
   "id": "9a01c289-8014-409f-a6ad-219e2a547d2c",
   "metadata": {},
   "outputs": [
    {
     "name": "stdout",
     "output_type": "stream",
     "text": [
      "Processing d:\\mis documentos\\gigc\\dashboard_library\n",
      "Building wheels for collected packages: dashboard-lib\n",
      "  Building wheel for dashboard-lib (setup.py): started\n",
      "  Building wheel for dashboard-lib (setup.py): finished with status 'done'\n",
      "  Created wheel for dashboard-lib: filename=dashboard_lib-0.1-py3-none-any.whl size=18749 sha256=52067853c7886850395ede5d523ce7ab059ceea773e0aee5021da2282f6cb739\n",
      "  Stored in directory: D:\\Users\\ADUENAS\\AppData\\Local\\Temp\\2\\pip-ephem-wheel-cache-q8n3qwni\\wheels\\0b\\d1\\59\\1abac6cf5d94a679c16d59a00019ce1d32957000420ee2c272\n",
      "Successfully built dashboard-lib\n",
      "Installing collected packages: dashboard-lib\n",
      "  Attempting uninstall: dashboard-lib\n",
      "    Found existing installation: dashboard-lib 0.1\n",
      "    Uninstalling dashboard-lib-0.1:\n",
      "      Successfully uninstalled dashboard-lib-0.1\n",
      "Successfully installed dashboard-lib-0.1\n"
     ]
    }
   ],
   "source": [
    "!pip install --upgrade ."
   ]
  },
  {
   "cell_type": "code",
   "execution_count": 3,
   "id": "8dfb41fb-bf5c-4fcd-a104-3604ac28bc68",
   "metadata": {},
   "outputs": [],
   "source": [
    "import dashboard_lib"
   ]
  },
  {
   "cell_type": "code",
   "execution_count": null,
   "id": "50c3bf13-dad3-4c25-8f42-beeede84871a",
   "metadata": {},
   "outputs": [],
   "source": []
  }
 ],
 "metadata": {
  "kernelspec": {
   "display_name": "Python 3",
   "language": "python",
   "name": "python3"
  },
  "language_info": {
   "codemirror_mode": {
    "name": "ipython",
    "version": 3
   },
   "file_extension": ".py",
   "mimetype": "text/x-python",
   "name": "python",
   "nbconvert_exporter": "python",
   "pygments_lexer": "ipython3",
   "version": "3.8.8"
  }
 },
 "nbformat": 4,
 "nbformat_minor": 5
}
